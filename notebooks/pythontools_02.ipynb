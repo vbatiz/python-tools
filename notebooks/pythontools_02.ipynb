{
  "cells": [
    {
      "cell_type": "markdown",
      "metadata": {
        "id": "3QAqgL-AC2FX"
      },
      "source": [
        "## Reconocimiento óptico de caracteres usando Tesseract.\n",
        "\n",
        "https://pypi.org/project/pytesseract/\n"
      ]
    },
    {
      "cell_type": "markdown",
      "metadata": {
        "id": "vNPJZdl0Ll0F"
      },
      "source": [
        "Descargamos una imagen de internet.\n",
        "\n",
        "![Texto](https://www.lifeder.com/wp-content/uploads/2020/08/texto-l%C3%ADrico-ilustraci%C3%B3n-lifeder-min-745x420.jpg \"Texto\")"
      ]
    },
    {
      "cell_type": "code",
      "execution_count": null,
      "metadata": {
        "colab": {
          "base_uri": "https://localhost:8080/"
        },
        "id": "dR-YqMgQCv80",
        "outputId": "a6123d76-7a6f-4635-b60a-f4ee409c8a44"
      },
      "outputs": [],
      "source": [
        "# Descargamos las imágenes de prueba\n",
        "!wget --no-check-certificate \\\n",
        "    https://www.lifeder.com/wp-content/uploads/2020/08/texto-l%C3%ADrico-ilustraci%C3%B3n-lifeder-min-745x420.jpg \\\n",
        "    -O imagen1.jpg\n",
        "!wget --no-check-certificate \\\n",
        "    https://www.proferecursos.com/wp-content/uploads/Texto-Literario-1024x724.jpg \\\n",
        "    -O imagen2.jpg\n",
        "!wget --no-check-certificate \\\n",
        "    https://www.proferecursos.com/wp-content/uploads/Texto-Narrativo-600x424.jpg \\\n",
        "    -O imagen3.jpg"
      ]
    },
    {
      "cell_type": "code",
      "execution_count": null,
      "metadata": {
        "colab": {
          "base_uri": "https://localhost:8080/"
        },
        "id": "Gg_Mbz2Xni-9",
        "outputId": "9e9e55a6-9134-4e95-fca0-210798567401"
      },
      "outputs": [],
      "source": [
        "# Versión de Linux\n",
        "!lsb_release -a"
      ]
    },
    {
      "cell_type": "markdown",
      "metadata": {
        "id": "c3UZ5n8aLk21"
      },
      "source": [
        "Instalamos Tesseract"
      ]
    },
    {
      "cell_type": "code",
      "execution_count": null,
      "metadata": {
        "colab": {
          "base_uri": "https://localhost:8080/"
        },
        "id": "670ksrbkGWkW",
        "outputId": "d3a00116-e8ec-430e-df41-b0b8b736def6"
      },
      "outputs": [],
      "source": [
        "!sudo apt install tesseract-ocr\n",
        "!pip install pytesseract"
      ]
    },
    {
      "cell_type": "code",
      "execution_count": null,
      "metadata": {
        "id": "kBN5mDisGS-H"
      },
      "outputs": [],
      "source": [
        "# Importamos las bibliotecas que utilizaremos\n",
        "import cv2 #opencv automáticamente se carca como cv2\n",
        "from PIL import Image\n",
        "import pytesseract\n",
        "import numpy as np"
      ]
    },
    {
      "cell_type": "code",
      "execution_count": null,
      "metadata": {
        "id": "V4vCevIe7CPp"
      },
      "outputs": [],
      "source": [
        "## Si se quiere acceder al drive de Google para tomar de ahí las imágenes\n",
        "#from google.colab import drive\n",
        "#drive.mount('/content/drive')"
      ]
    },
    {
      "cell_type": "code",
      "execution_count": null,
      "metadata": {
        "id": "2Y3TGhgWoPbT"
      },
      "outputs": [],
      "source": [
        "filename1 = 'imagen1.jpg'\n",
        "filename2 = 'imagen2.jpg'\n",
        "filename3 = 'imagen3.jpg'"
      ]
    },
    {
      "cell_type": "code",
      "execution_count": null,
      "metadata": {
        "colab": {
          "base_uri": "https://localhost:8080/"
        },
        "id": "6ceFTiKNJ9-m",
        "outputId": "430d25d2-86fb-460e-a983-39a6ff39e56f"
      },
      "outputs": [],
      "source": [
        "img = np.array(Image.open(filename1))\n",
        "img.shape"
      ]
    },
    {
      "cell_type": "markdown",
      "metadata": {
        "id": "fZgFG0eTpple"
      },
      "source": [
        "### Extraemos el texto"
      ]
    },
    {
      "cell_type": "code",
      "execution_count": null,
      "metadata": {
        "colab": {
          "base_uri": "https://localhost:8080/"
        },
        "id": "62g7YmW3punK",
        "outputId": "54549b85-7ca4-4b12-bc9a-7dea625a7e51"
      },
      "outputs": [],
      "source": [
        "text = pytesseract.image_to_string(img)\n",
        "print(text)"
      ]
    },
    {
      "cell_type": "markdown",
      "metadata": {
        "id": "4-60GkjUMQ18"
      },
      "source": [
        "El siguiente código se utiliza para eliminar ruido de una imagen."
      ]
    },
    {
      "cell_type": "code",
      "execution_count": null,
      "metadata": {
        "colab": {
          "base_uri": "https://localhost:8080/"
        },
        "id": "zeEp-CEIJXz2",
        "outputId": "53e09891-4c03-488b-af67-7458bd1c36d0"
      },
      "outputs": [],
      "source": [
        "import cv2\n",
        "imagen_normalizada = np.zeros((img.shape[0], img.shape[1]))\n",
        "#print(imagen_normalizada)\n",
        "imagen_limpia = cv2.normalize(img, imagen_normalizada, 0, 255, cv2.NORM_MINMAX)\n",
        "imagen_limpia = cv2.threshold(imagen_limpia, 100,255, cv2.THRESH_BINARY)[1]\n",
        "imagen_limpia = cv2.GaussianBlur(imagen_limpia,(1,1),0)\n",
        "\n",
        "text = pytesseract.image_to_string(imagen_limpia)\n",
        "print(text)"
      ]
    },
    {
      "cell_type": "code",
      "execution_count": null,
      "metadata": {
        "colab": {
          "base_uri": "https://localhost:8080/"
        },
        "id": "BAagfuSmLDzt",
        "outputId": "044f7238-049c-4ce7-f9b5-17f1e815e8e3"
      },
      "outputs": [],
      "source": [
        "# List of available languages\n",
        "print(pytesseract.get_languages(config=''))"
      ]
    },
    {
      "cell_type": "code",
      "execution_count": null,
      "metadata": {
        "colab": {
          "base_uri": "https://localhost:8080/"
        },
        "id": "zci5sy_YGfQX",
        "outputId": "75c8ffd9-a35d-48ab-ce31-aca77ed95d8b"
      },
      "outputs": [],
      "source": [
        "# Extrayendo texto directamente de la imagen\n",
        "print(pytesseract.image_to_string(Image.open('imagen2.jpg')))"
      ]
    },
    {
      "cell_type": "markdown",
      "metadata": {
        "id": "Q3Z8HI2YM398"
      },
      "source": [
        "### Referencias\n",
        "\n",
        "1. https://bhadreshpsavani.medium.com/how-to-use-tesseract-library-for-ocr-in-google-colab-notebook-5da5470e4fe0\n",
        "2. https://builtin.com/data-science/python-ocr\n",
        "3. https://github.com/madmaze/pytesseract/blob/master/README.rst\n",
        "4. https://github.com/tesseract-ocr/tesseract"
      ]
    }
  ],
  "metadata": {
    "colab": {
      "provenance": []
    },
    "kernelspec": {
      "display_name": "Python 3",
      "name": "python3"
    },
    "language_info": {
      "name": "python"
    }
  },
  "nbformat": 4,
  "nbformat_minor": 0
}
