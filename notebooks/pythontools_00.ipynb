{
  "cells": [
    {
      "cell_type": "markdown",
      "metadata": {
        "id": "1wWnVn6b0a4N"
      },
      "source": [
        "## Python al máximo: un mundo de bibliotecas a tu alcance\n",
        "\n",
        "![Python](https://www.python.org/static/img/python-logo.png)"
      ]
    },
    {
      "cell_type": "markdown",
      "metadata": {
        "id": "CtQS90sX0h9V"
      },
      "source": [
        "## Índice\n",
        "\n",
        "**Creando códigos QR, audio y calendarios**\n",
        "- [QRCode, gTTs y calendar](pythontools_01.ipynb)\n",
        "\n",
        "**Reconocimiento óptico de carácteres (OCR, del inglés Optical Character Recognition)**\n",
        "- [Tesseract](pythontools_02.ipynb)\n",
        "\n",
        "**Reconocimiento de audio y conversión a texto**\n",
        "- [Whisper](pythontools_03.ipynb)\n",
        "\n",
        "**Análisis de sentimientos**\n",
        "- [TextBlob y googletrans](pythontools_04.ipynb)\n",
        "\n",
        "**Respondiendo preguntas con base en un contexto**\n",
        "- [Transformers](pythontools_05.ipynb)"
      ]
    }
  ],
  "metadata": {
    "colab": {
      "provenance": []
    },
    "kernelspec": {
      "display_name": "Python 3",
      "name": "python3"
    },
    "language_info": {
      "name": "python"
    }
  },
  "nbformat": 4,
  "nbformat_minor": 0
}
