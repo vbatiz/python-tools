{
  "cells": [
    {
      "cell_type": "markdown",
      "metadata": {
        "id": "1wWnVn6b0a4N"
      },
      "source": [
        "## Python al máximo: un mundo de bibliotecas a tu alcance\n",
        "\n",
        "![Python](https://www.python.org/static/img/python-logo.png)"
      ]
    },
    {
      "cell_type": "markdown",
      "metadata": {
        "id": "CtQS90sX0h9V"
      },
      "source": [
        "### Índice\n",
        "\n",
        "**Bibliotecas útiles**\n",
        "- [QRCode, gTTs y calendar: Creando códigos QR, audio y calendarios](pythontools_00.ipynb)\n",
        "- [Python básico: Control de Flujo](IntroPython_02.ipynb)\n",
        "- [Python básico: Listas, Tuplas, Diccionarios y Conjuntos](IntroPython_09.ipynb)\n",
        "\n"
      ]
    }
  ],
  "metadata": {
    "colab": {
      "provenance": []
    },
    "kernelspec": {
      "display_name": "Python 3",
      "name": "python3"
    },
    "language_info": {
      "name": "python"
    }
  },
  "nbformat": 4,
  "nbformat_minor": 0
}
