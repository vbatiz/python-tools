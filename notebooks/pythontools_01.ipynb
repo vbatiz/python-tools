{
  "cells": [
    {
      "cell_type": "markdown",
      "metadata": {
        "id": "Aj4RHcDl9sDf"
      },
      "source": [
        "### Creando códigos QR"
      ]
    },
    {
      "cell_type": "code",
      "execution_count": null,
      "metadata": {
        "id": "poFC1vCv9sDl"
      },
      "outputs": [],
      "source": [
        "#Instalamos la biblioteca qrcode\n",
        "!pip install qrcode"
      ]
    },
    {
      "cell_type": "code",
      "execution_count": null,
      "metadata": {
        "id": "-7j3QsXc9sDn"
      },
      "outputs": [],
      "source": [
        "import qrcode  #Biblioteca que nos permite generar códigos QR\n",
        "from IPython.display import Image #Para poder desplegar imágenes en la notebook"
      ]
    },
    {
      "cell_type": "code",
      "execution_count": null,
      "metadata": {
        "id": "I8nVM7cv9sDn"
      },
      "outputs": [],
      "source": [
        "vinculo = \"https://www.kaggle.com/learn\"\n",
        "imagen = qrcode.make(vinculo)\n",
        "imagen.save(\"codigo.png\")"
      ]
    },
    {
      "cell_type": "markdown",
      "metadata": {
        "id": "nymX6OwW9sDn"
      },
      "source": [
        "Visualizamos el código QR resultante."
      ]
    },
    {
      "cell_type": "code",
      "execution_count": null,
      "metadata": {
        "id": "kT4TExNh9sDo"
      },
      "outputs": [],
      "source": [
        "Image('codigo.png', width=300, height=300)"
      ]
    },
    {
      "cell_type": "markdown",
      "metadata": {
        "id": "bqRXIAEO9sDo"
      },
      "source": [
        "#### **Uso avanzado**: diferentes estilos de dibujo para el código QR"
      ]
    },
    {
      "cell_type": "markdown",
      "metadata": {
        "id": "8uhx4-Ft9sDo"
      },
      "source": [
        "##### Usando colores diferentes\n",
        "\n",
        "Crearemos un objeto de la clase QRCode para definir sus propiedades básicas."
      ]
    },
    {
      "cell_type": "code",
      "execution_count": null,
      "metadata": {
        "id": "VWTM7bco9sDp"
      },
      "outputs": [],
      "source": [
        "qr = qrcode.QRCode(\n",
        "    version=1,\n",
        "    error_correction=qrcode.constants.ERROR_CORRECT_L,\n",
        "    box_size=10,  #controla cuántos píxeles tiene cada \"caja\" del código QR.\n",
        "    border=4,\n",
        ")"
      ]
    },
    {
      "cell_type": "markdown",
      "metadata": {
        "id": "9de6cEse9sDp"
      },
      "source": [
        "El parámetro ***version*** es un número entero de 1 a 40 que controla el tamaño del código QR (el más pequeño, version = 1, es una matriz de 21x21). Ajústelo a `None` y utilice el parámetro `fit` al crear el código para determinarlo automáticamente.\n",
        "\n",
        "El parámetro ***box_size*** controla cuántos píxeles tiene cada \"casilla\" del código QR.\n",
        "\n",
        "El parámetro ***border*** controla cuántas casillas de grosor debe tener el borde (el valor por defecto es 4, que es el mínimo según las especificaciones)."
      ]
    },
    {
      "cell_type": "markdown",
      "metadata": {
        "id": "moHgnMx49sDp"
      },
      "source": [
        "Agregamos la información que va a contener el código QR:"
      ]
    },
    {
      "cell_type": "code",
      "execution_count": null,
      "metadata": {
        "id": "-l3dwFoi9sDp"
      },
      "outputs": [],
      "source": [
        "vinculo = \"https://github.com/vbatiz/python-tools\"\n",
        "qr.add_data(vinculo)\n",
        "qr.make(fit=True)\n",
        "img = qr.make_image(fill_color=\"DarkGoldenRod\", back_color=\"white\")"
      ]
    },
    {
      "cell_type": "markdown",
      "metadata": {
        "id": "4iu8bGkJ9sDp"
      },
      "source": [
        "`fill_color` y `back_color` pueden cambiar el fondo y el color de frente del QR, cuando se utiliza la fábrica de imágenes por defecto. Ambos parámetros aceptan tuplas de color RGB."
      ]
    },
    {
      "cell_type": "code",
      "execution_count": null,
      "metadata": {
        "id": "0cVCZzf99sDq"
      },
      "outputs": [],
      "source": [
        "img.save('qr_color.png')"
      ]
    },
    {
      "cell_type": "code",
      "execution_count": null,
      "metadata": {
        "id": "sQmCQ5DA9sDq"
      },
      "outputs": [],
      "source": [
        "Image('qr_color.png', width=300, height=300)"
      ]
    },
    {
      "cell_type": "markdown",
      "metadata": {},
      "source": [
        "### Creando una imagen estilizada\n",
        "\n",
        "Para aplicar estilos al código QR vamos a utilizar la fábrica de imágenes `StyledPilImage`. Ésta acepta un parámetro opcional `module_drawer` para controlar la forma del código QR.\n",
        "\n",
        "`StyledPilImage` acepta además un parámetro opcional `color_mask` para cambiar los colores del código QR, y un opcional `embeded_image_path` para incrustar una imagen en el centro del código."
      ]
    },
    {
      "cell_type": "code",
      "execution_count": null,
      "metadata": {},
      "outputs": [],
      "source": [
        "import qrcode\n",
        "from qrcode.image.styledpil import StyledPilImage\n",
        "from qrcode.image.styles.moduledrawers import CircleModuleDrawer, GappedSquareModuleDrawer, HorizontalBarsDrawer, RoundedModuleDrawer, SquareModuleDrawer, VerticalBarsDrawer\n",
        "#from qrcode.image.styles.moduledrawers.pil import RoundedModuleDrawer\n",
        "from qrcode.image.styles.colormasks import RadialGradiantColorMask"
      ]
    },
    {
      "cell_type": "code",
      "execution_count": null,
      "metadata": {},
      "outputs": [],
      "source": [
        "qr = qrcode.QRCode(error_correction=qrcode.constants.ERROR_CORRECT_L)\n",
        "qr.add_data(texto_qr)"
      ]
    },
    {
      "cell_type": "markdown",
      "metadata": {},
      "source": [
        "#### Bordes redondeados"
      ]
    },
    {
      "cell_type": "code",
      "execution_count": null,
      "metadata": {},
      "outputs": [],
      "source": [
        "img_1 = qr.make_image(image_factory=StyledPilImage, module_drawer=RoundedModuleDrawer())\n",
        "img_1.save('qr_redondeado.png')\n",
        "Image('qr_redondeado.png', width=300, height=300)"
      ]
    },
    {
      "cell_type": "markdown",
      "metadata": {},
      "source": [
        "Opciones para module_drawer:\n",
        "\n",
        "- `CircleModuleDrawer()`\n",
        "- `GappedSquareModuleDrawer()`\n",
        "- `VerticalBarsDrawer()`\n",
        "- `HorizontalBarsDrawer()`\n",
        "- `RoundedModuleDrawer()`\n",
        "- `SquareModuleDrawer()`"
      ]
    },
    {
      "cell_type": "markdown",
      "metadata": {},
      "source": [
        "#### Color en gradiente (degradado)"
      ]
    },
    {
      "cell_type": "code",
      "execution_count": null,
      "metadata": {},
      "outputs": [],
      "source": [
        "img_2 = qr.make_image(image_factory=StyledPilImage, color_mask=RadialGradiantColorMask())\n",
        "img_2.save('comunidad_degradado.png')\n",
        "Image('comunidad_degradado.png', width=300, height=300)"
      ]
    },
    {
      "cell_type": "markdown",
      "metadata": {},
      "source": [
        "#### Con imagen incrustada.\n",
        "\n",
        "Recuerde agregar la imagen a su alcenamiento local. La carpeta del lado izquierdo en Colab. En este caso lo hemos llamado `logo.png`"
      ]
    },
    {
      "cell_type": "code",
      "execution_count": null,
      "metadata": {},
      "outputs": [],
      "source": [
        "qr = qrcode.QRCode(error_correction=qrcode.constants.ERROR_CORRECT_H)\n",
        "qr.add_data(texto_qr)\n",
        "\n",
        "img_3 = qr.make_image(image_factory=StyledPilImage, embeded_image_path=\"logo.png\")\n",
        "img_3.save('qr_con_logo.png')\n",
        "Image('qr_con_logo.png', width=300, height=300)"
      ]
    },
    {
      "cell_type": "markdown",
      "metadata": {
        "id": "jWTSF9pcBNdc"
      },
      "source": [
        "# Generación de audio"
      ]
    },
    {
      "cell_type": "code",
      "execution_count": null,
      "metadata": {
        "colab": {
          "base_uri": "https://localhost:8080/"
        },
        "id": "Y4TVmzM7BRdl",
        "outputId": "f923a48f-ceef-4539-81e7-dd37c9404b30"
      },
      "outputs": [],
      "source": [
        "!pip install gTTs"
      ]
    },
    {
      "cell_type": "code",
      "execution_count": null,
      "metadata": {
        "id": "jYdF_JeUBcjE"
      },
      "outputs": [],
      "source": [
        "from gtts import gTTS\n",
        "from IPython.display import Audio"
      ]
    },
    {
      "cell_type": "code",
      "execution_count": null,
      "metadata": {
        "id": "Qh7KdWHsBwmz"
      },
      "outputs": [],
      "source": [
        "def text2speech(texto, lang, accent, nombre_archivo=\"audio.mp3\"):\n",
        "  tts = gTTS(text=texto, lang=lang, tld=accent)\n",
        "  tts.save(nombre_archivo)"
      ]
    },
    {
      "cell_type": "code",
      "execution_count": null,
      "metadata": {
        "colab": {
          "base_uri": "https://localhost:8080/",
          "height": 75
        },
        "id": "WSQgbm0BCTeF",
        "outputId": "22a15297-3268-48d0-b783-9368e4963919"
      },
      "outputs": [],
      "source": [
        "text2speech(\"la imaginación es más importante que el conocimiento\",'es','com.mx')\n",
        "Audio(\"audio.mp3\", autoplay=True)"
      ]
    },
    {
      "cell_type": "code",
      "execution_count": null,
      "metadata": {
        "colab": {
          "base_uri": "https://localhost:8080/",
          "height": 75
        },
        "id": "ZPTnDKe3vnRc",
        "outputId": "68c44334-1c04-493a-ec95-233534e7d94d"
      },
      "outputs": [],
      "source": [
        "text2speech(\"Imagination is more important than knowledge\",'en','com.au')\n",
        "Audio(\"audio.mp3\", autoplay=True)"
      ]
    },
    {
      "cell_type": "code",
      "execution_count": null,
      "metadata": {
        "colab": {
          "base_uri": "https://localhost:8080/",
          "height": 75
        },
        "id": "0w7XhQQAwA3-",
        "outputId": "2ac4c84b-3ce3-4522-9c37-f18cce636935"
      },
      "outputs": [],
      "source": [
        "text2speech(\"Imagination is more important than knowledge\",'en','co.in')\n",
        "Audio(\"audio.mp3\", autoplay=True)"
      ]
    },
    {
      "cell_type": "markdown",
      "metadata": {
        "id": "fUuZVD-qsgGz"
      },
      "source": [
        "# Calendario"
      ]
    },
    {
      "cell_type": "code",
      "execution_count": null,
      "metadata": {
        "id": "qPP3KpfMsjYJ"
      },
      "outputs": [],
      "source": [
        "from calendar import TextCalendar"
      ]
    },
    {
      "cell_type": "code",
      "execution_count": null,
      "metadata": {
        "colab": {
          "base_uri": "https://localhost:8080/"
        },
        "id": "wmdR1Rhzssrg",
        "outputId": "b61f617d-f499-4adc-bbf8-636266816a46"
      },
      "outputs": [],
      "source": [
        "year = 2025\n",
        "cal = TextCalendar()\n",
        "#año, espacio entre días, espacio entre líneas, espacio entre meses, meses por renglón\n",
        "print(cal.formatyear(year, 2, 1, 3, 3))"
      ]
    }
  ],
  "metadata": {
    "colab": {
      "provenance": []
    },
    "kernelspec": {
      "display_name": "Python 3",
      "language": "python",
      "name": "python3"
    },
    "language_info": {
      "codemirror_mode": {
        "name": "ipython",
        "version": 3
      },
      "file_extension": ".py",
      "mimetype": "text/x-python",
      "name": "python",
      "nbconvert_exporter": "python",
      "pygments_lexer": "ipython3",
      "version": "3.10.13"
    }
  },
  "nbformat": 4,
  "nbformat_minor": 0
}
